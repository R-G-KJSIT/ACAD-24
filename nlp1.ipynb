{
 "cells": [
  {
   "cell_type": "code",
   "execution_count": 10,
   "metadata": {},
   "outputs": [
    {
     "name": "stdout",
     "output_type": "stream",
     "text": [
      "Defaulting to user installation because normal site-packages is not writeable\n",
      "Requirement already satisfied: nltk in /home/lab205003/.local/lib/python3.10/site-packages (3.8.1)\n",
      "Requirement already satisfied: inltk in /home/lab205003/.local/lib/python3.10/site-packages (0.9)\n",
      "Requirement already satisfied: numpy in /home/lab205003/.local/lib/python3.10/site-packages (1.26.4)\n",
      "Requirement already satisfied: pandas in /home/lab205003/.local/lib/python3.10/site-packages (2.2.2)\n",
      "Requirement already satisfied: scikit-learn in /home/lab205003/.local/lib/python3.10/site-packages (1.5.1)\n",
      "Requirement already satisfied: tqdm in /home/lab205003/.local/lib/python3.10/site-packages (from nltk) (4.66.4)\n",
      "Requirement already satisfied: click in /usr/lib/python3/dist-packages (from nltk) (8.0.3)\n",
      "Requirement already satisfied: joblib in /home/lab205003/.local/lib/python3.10/site-packages (from nltk) (1.4.2)\n",
      "Requirement already satisfied: regex>=2021.8.3 in /home/lab205003/.local/lib/python3.10/site-packages (from nltk) (2024.5.15)\n",
      "Requirement already satisfied: requests in /usr/lib/python3/dist-packages (from inltk) (2.25.1)\n",
      "Requirement already satisfied: async-timeout>=3.0.1 in /home/lab205003/.local/lib/python3.10/site-packages (from inltk) (4.0.3)\n",
      "Requirement already satisfied: spacy>=2.0.18 in /home/lab205003/.local/lib/python3.10/site-packages (from inltk) (3.7.5)\n",
      "Requirement already satisfied: fastprogress>=0.1.19 in /home/lab205003/.local/lib/python3.10/site-packages (from inltk) (1.0.3)\n",
      "Requirement already satisfied: beautifulsoup4 in /home/lab205003/.local/lib/python3.10/site-packages (from inltk) (4.12.3)\n",
      "Requirement already satisfied: sentencepiece in /home/lab205003/.local/lib/python3.10/site-packages (from inltk) (0.2.0)\n",
      "Requirement already satisfied: matplotlib in /home/lab205003/.local/lib/python3.10/site-packages (from inltk) (3.9.1)\n",
      "Requirement already satisfied: packaging in /home/lab205003/.local/lib/python3.10/site-packages (from inltk) (24.1)\n",
      "Requirement already satisfied: aiohttp>=3.5.4 in /home/lab205003/.local/lib/python3.10/site-packages (from inltk) (3.9.5)\n",
      "Requirement already satisfied: scipy in /home/lab205003/.local/lib/python3.10/site-packages (from inltk) (1.14.0)\n",
      "Requirement already satisfied: fastai==1.0.57 in /home/lab205003/.local/lib/python3.10/site-packages (from inltk) (1.0.57)\n",
      "Requirement already satisfied: nvidia-ml-py3 in /home/lab205003/.local/lib/python3.10/site-packages (from inltk) (7.352.0)\n",
      "Requirement already satisfied: Pillow in /usr/lib/python3/dist-packages (from inltk) (9.0.1)\n",
      "Requirement already satisfied: typing in /home/lab205003/.local/lib/python3.10/site-packages (from inltk) (3.7.4.3)\n",
      "Requirement already satisfied: bottleneck in /home/lab205003/.local/lib/python3.10/site-packages (from inltk) (1.4.0)\n",
      "Requirement already satisfied: numexpr in /home/lab205003/.local/lib/python3.10/site-packages (from inltk) (2.10.1)\n",
      "Requirement already satisfied: pyyaml in /usr/lib/python3/dist-packages (from inltk) (5.4.1)\n",
      "Requirement already satisfied: torchvision in /home/lab205003/.local/lib/python3.10/site-packages (from fastai==1.0.57->inltk) (0.18.1)\n",
      "Requirement already satisfied: torch>=1.0.0 in /home/lab205003/.local/lib/python3.10/site-packages (from fastai==1.0.57->inltk) (2.3.1)\n",
      "Requirement already satisfied: tzdata>=2022.7 in /home/lab205003/.local/lib/python3.10/site-packages (from pandas) (2024.1)\n",
      "Requirement already satisfied: python-dateutil>=2.8.2 in /home/lab205003/.local/lib/python3.10/site-packages (from pandas) (2.9.0.post0)\n",
      "Requirement already satisfied: pytz>=2020.1 in /usr/lib/python3/dist-packages (from pandas) (2022.1)\n",
      "Requirement already satisfied: threadpoolctl>=3.1.0 in /home/lab205003/.local/lib/python3.10/site-packages (from scikit-learn) (3.5.0)\n",
      "Requirement already satisfied: aiosignal>=1.1.2 in /home/lab205003/.local/lib/python3.10/site-packages (from aiohttp>=3.5.4->inltk) (1.3.1)\n",
      "Requirement already satisfied: multidict<7.0,>=4.5 in /home/lab205003/.local/lib/python3.10/site-packages (from aiohttp>=3.5.4->inltk) (6.0.5)\n",
      "Requirement already satisfied: frozenlist>=1.1.1 in /home/lab205003/.local/lib/python3.10/site-packages (from aiohttp>=3.5.4->inltk) (1.4.1)\n",
      "Requirement already satisfied: yarl<2.0,>=1.0 in /home/lab205003/.local/lib/python3.10/site-packages (from aiohttp>=3.5.4->inltk) (1.9.4)\n",
      "Requirement already satisfied: attrs>=17.3.0 in /home/lab205003/.local/lib/python3.10/site-packages (from aiohttp>=3.5.4->inltk) (23.2.0)\n",
      "Requirement already satisfied: six>=1.5 in /usr/lib/python3/dist-packages (from python-dateutil>=2.8.2->pandas) (1.16.0)\n",
      "Requirement already satisfied: spacy-loggers<2.0.0,>=1.0.0 in /home/lab205003/.local/lib/python3.10/site-packages (from spacy>=2.0.18->inltk) (1.0.5)\n",
      "Requirement already satisfied: cymem<2.1.0,>=2.0.2 in /home/lab205003/.local/lib/python3.10/site-packages (from spacy>=2.0.18->inltk) (2.0.8)\n",
      "Requirement already satisfied: pydantic!=1.8,!=1.8.1,<3.0.0,>=1.7.4 in /home/lab205003/.local/lib/python3.10/site-packages (from spacy>=2.0.18->inltk) (2.8.2)\n",
      "Requirement already satisfied: langcodes<4.0.0,>=3.2.0 in /home/lab205003/.local/lib/python3.10/site-packages (from spacy>=2.0.18->inltk) (3.4.0)\n",
      "Requirement already satisfied: spacy-legacy<3.1.0,>=3.0.11 in /home/lab205003/.local/lib/python3.10/site-packages (from spacy>=2.0.18->inltk) (3.0.12)\n",
      "Requirement already satisfied: wasabi<1.2.0,>=0.9.1 in /home/lab205003/.local/lib/python3.10/site-packages (from spacy>=2.0.18->inltk) (1.1.3)\n",
      "Requirement already satisfied: weasel<0.5.0,>=0.1.0 in /home/lab205003/.local/lib/python3.10/site-packages (from spacy>=2.0.18->inltk) (0.4.1)\n",
      "Requirement already satisfied: setuptools in /usr/lib/python3/dist-packages (from spacy>=2.0.18->inltk) (59.6.0)\n",
      "Requirement already satisfied: srsly<3.0.0,>=2.4.3 in /home/lab205003/.local/lib/python3.10/site-packages (from spacy>=2.0.18->inltk) (2.4.8)\n",
      "Requirement already satisfied: murmurhash<1.1.0,>=0.28.0 in /home/lab205003/.local/lib/python3.10/site-packages (from spacy>=2.0.18->inltk) (1.0.10)\n",
      "Requirement already satisfied: preshed<3.1.0,>=3.0.2 in /home/lab205003/.local/lib/python3.10/site-packages (from spacy>=2.0.18->inltk) (3.0.9)\n",
      "Requirement already satisfied: catalogue<2.1.0,>=2.0.6 in /home/lab205003/.local/lib/python3.10/site-packages (from spacy>=2.0.18->inltk) (2.0.10)\n",
      "Requirement already satisfied: thinc<8.3.0,>=8.2.2 in /home/lab205003/.local/lib/python3.10/site-packages (from spacy>=2.0.18->inltk) (8.2.5)\n",
      "Requirement already satisfied: typer<1.0.0,>=0.3.0 in /home/lab205003/.local/lib/python3.10/site-packages (from spacy>=2.0.18->inltk) (0.12.3)\n",
      "Requirement already satisfied: jinja2 in /home/lab205003/.local/lib/python3.10/site-packages (from spacy>=2.0.18->inltk) (3.1.4)\n",
      "Requirement already satisfied: soupsieve>1.2 in /home/lab205003/.local/lib/python3.10/site-packages (from beautifulsoup4->inltk) (2.5)\n",
      "Requirement already satisfied: fonttools>=4.22.0 in /home/lab205003/.local/lib/python3.10/site-packages (from matplotlib->inltk) (4.53.1)\n",
      "Requirement already satisfied: kiwisolver>=1.3.1 in /home/lab205003/.local/lib/python3.10/site-packages (from matplotlib->inltk) (1.4.5)\n",
      "Requirement already satisfied: pyparsing>=2.3.1 in /usr/lib/python3/dist-packages (from matplotlib->inltk) (2.4.7)\n",
      "Requirement already satisfied: cycler>=0.10 in /home/lab205003/.local/lib/python3.10/site-packages (from matplotlib->inltk) (0.12.1)\n",
      "Requirement already satisfied: contourpy>=1.0.1 in /home/lab205003/.local/lib/python3.10/site-packages (from matplotlib->inltk) (1.2.1)\n",
      "Requirement already satisfied: language-data>=1.2 in /home/lab205003/.local/lib/python3.10/site-packages (from langcodes<4.0.0,>=3.2.0->spacy>=2.0.18->inltk) (1.2.0)\n",
      "Requirement already satisfied: pydantic-core==2.20.1 in /home/lab205003/.local/lib/python3.10/site-packages (from pydantic!=1.8,!=1.8.1,<3.0.0,>=1.7.4->spacy>=2.0.18->inltk) (2.20.1)\n",
      "Requirement already satisfied: typing-extensions>=4.6.1 in /home/lab205003/.local/lib/python3.10/site-packages (from pydantic!=1.8,!=1.8.1,<3.0.0,>=1.7.4->spacy>=2.0.18->inltk) (4.12.2)\n",
      "Requirement already satisfied: annotated-types>=0.4.0 in /home/lab205003/.local/lib/python3.10/site-packages (from pydantic!=1.8,!=1.8.1,<3.0.0,>=1.7.4->spacy>=2.0.18->inltk) (0.7.0)\n",
      "Requirement already satisfied: confection<1.0.0,>=0.0.1 in /home/lab205003/.local/lib/python3.10/site-packages (from thinc<8.3.0,>=8.2.2->spacy>=2.0.18->inltk) (0.1.5)\n",
      "Requirement already satisfied: blis<0.8.0,>=0.7.8 in /home/lab205003/.local/lib/python3.10/site-packages (from thinc<8.3.0,>=8.2.2->spacy>=2.0.18->inltk) (0.7.11)\n",
      "Requirement already satisfied: sympy in /home/lab205003/.local/lib/python3.10/site-packages (from torch>=1.0.0->fastai==1.0.57->inltk) (1.13.1)\n",
      "Requirement already satisfied: networkx in /home/lab205003/.local/lib/python3.10/site-packages (from torch>=1.0.0->fastai==1.0.57->inltk) (3.3)\n",
      "Requirement already satisfied: nvidia-nccl-cu12==2.20.5 in /home/lab205003/.local/lib/python3.10/site-packages (from torch>=1.0.0->fastai==1.0.57->inltk) (2.20.5)\n",
      "Requirement already satisfied: nvidia-cusolver-cu12==11.4.5.107 in /home/lab205003/.local/lib/python3.10/site-packages (from torch>=1.0.0->fastai==1.0.57->inltk) (11.4.5.107)\n",
      "Requirement already satisfied: nvidia-cublas-cu12==12.1.3.1 in /home/lab205003/.local/lib/python3.10/site-packages (from torch>=1.0.0->fastai==1.0.57->inltk) (12.1.3.1)\n",
      "Requirement already satisfied: triton==2.3.1 in /home/lab205003/.local/lib/python3.10/site-packages (from torch>=1.0.0->fastai==1.0.57->inltk) (2.3.1)\n",
      "Requirement already satisfied: fsspec in /home/lab205003/.local/lib/python3.10/site-packages (from torch>=1.0.0->fastai==1.0.57->inltk) (2024.6.1)\n",
      "Requirement already satisfied: filelock in /home/lab205003/.local/lib/python3.10/site-packages (from torch>=1.0.0->fastai==1.0.57->inltk) (3.15.4)\n",
      "Requirement already satisfied: nvidia-cudnn-cu12==8.9.2.26 in /home/lab205003/.local/lib/python3.10/site-packages (from torch>=1.0.0->fastai==1.0.57->inltk) (8.9.2.26)\n",
      "Requirement already satisfied: nvidia-cuda-runtime-cu12==12.1.105 in /home/lab205003/.local/lib/python3.10/site-packages (from torch>=1.0.0->fastai==1.0.57->inltk) (12.1.105)\n",
      "Requirement already satisfied: nvidia-cusparse-cu12==12.1.0.106 in /home/lab205003/.local/lib/python3.10/site-packages (from torch>=1.0.0->fastai==1.0.57->inltk) (12.1.0.106)\n",
      "Requirement already satisfied: nvidia-cuda-nvrtc-cu12==12.1.105 in /home/lab205003/.local/lib/python3.10/site-packages (from torch>=1.0.0->fastai==1.0.57->inltk) (12.1.105)\n",
      "Requirement already satisfied: nvidia-nvtx-cu12==12.1.105 in /home/lab205003/.local/lib/python3.10/site-packages (from torch>=1.0.0->fastai==1.0.57->inltk) (12.1.105)\n",
      "Requirement already satisfied: nvidia-cuda-cupti-cu12==12.1.105 in /home/lab205003/.local/lib/python3.10/site-packages (from torch>=1.0.0->fastai==1.0.57->inltk) (12.1.105)\n",
      "Requirement already satisfied: nvidia-cufft-cu12==11.0.2.54 in /home/lab205003/.local/lib/python3.10/site-packages (from torch>=1.0.0->fastai==1.0.57->inltk) (11.0.2.54)\n",
      "Requirement already satisfied: nvidia-curand-cu12==10.3.2.106 in /home/lab205003/.local/lib/python3.10/site-packages (from torch>=1.0.0->fastai==1.0.57->inltk) (10.3.2.106)\n",
      "Requirement already satisfied: nvidia-nvjitlink-cu12 in /home/lab205003/.local/lib/python3.10/site-packages (from nvidia-cusolver-cu12==11.4.5.107->torch>=1.0.0->fastai==1.0.57->inltk) (12.5.82)\n",
      "Requirement already satisfied: rich>=10.11.0 in /home/lab205003/.local/lib/python3.10/site-packages (from typer<1.0.0,>=0.3.0->spacy>=2.0.18->inltk) (13.7.1)\n",
      "Requirement already satisfied: shellingham>=1.3.0 in /home/lab205003/.local/lib/python3.10/site-packages (from typer<1.0.0,>=0.3.0->spacy>=2.0.18->inltk) (1.5.4)\n",
      "Requirement already satisfied: smart-open<8.0.0,>=5.2.1 in /home/lab205003/.local/lib/python3.10/site-packages (from weasel<0.5.0,>=0.1.0->spacy>=2.0.18->inltk) (7.0.4)\n",
      "Requirement already satisfied: cloudpathlib<1.0.0,>=0.7.0 in /home/lab205003/.local/lib/python3.10/site-packages (from weasel<0.5.0,>=0.1.0->spacy>=2.0.18->inltk) (0.18.1)\n",
      "Requirement already satisfied: idna>=2.0 in /usr/lib/python3/dist-packages (from yarl<2.0,>=1.0->aiohttp>=3.5.4->inltk) (3.3)\n",
      "Requirement already satisfied: MarkupSafe>=2.0 in /usr/lib/python3/dist-packages (from jinja2->spacy>=2.0.18->inltk) (2.0.1)\n",
      "Requirement already satisfied: marisa-trie>=0.7.7 in /home/lab205003/.local/lib/python3.10/site-packages (from language-data>=1.2->langcodes<4.0.0,>=3.2.0->spacy>=2.0.18->inltk) (1.2.0)\n",
      "Requirement already satisfied: pygments<3.0.0,>=2.13.0 in /home/lab205003/.local/lib/python3.10/site-packages (from rich>=10.11.0->typer<1.0.0,>=0.3.0->spacy>=2.0.18->inltk) (2.18.0)\n",
      "Requirement already satisfied: markdown-it-py>=2.2.0 in /home/lab205003/.local/lib/python3.10/site-packages (from rich>=10.11.0->typer<1.0.0,>=0.3.0->spacy>=2.0.18->inltk) (3.0.0)\n",
      "Requirement already satisfied: wrapt in /home/lab205003/.local/lib/python3.10/site-packages (from smart-open<8.0.0,>=5.2.1->weasel<0.5.0,>=0.1.0->spacy>=2.0.18->inltk) (1.16.0)\n",
      "Requirement already satisfied: mpmath<1.4,>=1.1.0 in /home/lab205003/.local/lib/python3.10/site-packages (from sympy->torch>=1.0.0->fastai==1.0.57->inltk) (1.3.0)\n",
      "Requirement already satisfied: mdurl~=0.1 in /home/lab205003/.local/lib/python3.10/site-packages (from markdown-it-py>=2.2.0->rich>=10.11.0->typer<1.0.0,>=0.3.0->spacy>=2.0.18->inltk) (0.1.2)\n"
     ]
    }
   ],
   "source": [
    "!python3 -m pip install nltk inltk numpy pandas scikit-learn"
   ]
  },
  {
   "cell_type": "code",
   "execution_count": 11,
   "metadata": {},
   "outputs": [],
   "source": [
    "import pandas\n",
    "import numpy\n",
    "import nltk.stem.wordnet\n",
    "from nltk.stem.porter import *\n",
    "from nltk.stem import WordNetLemmatizer\n",
    "from nltk import word_tokenize"
   ]
  },
  {
   "cell_type": "code",
   "execution_count": 12,
   "metadata": {},
   "outputs": [
    {
     "name": "stderr",
     "output_type": "stream",
     "text": [
      "[nltk_data] Downloading package punkt to /home/lab205003/nltk_data...\n",
      "[nltk_data]   Package punkt is already up-to-date!\n"
     ]
    },
    {
     "data": {
      "text/plain": [
       "True"
      ]
     },
     "execution_count": 12,
     "metadata": {},
     "output_type": "execute_result"
    }
   ],
   "source": [
    "nltk.download('punkt')"
   ]
  },
  {
   "cell_type": "code",
   "execution_count": 13,
   "metadata": {},
   "outputs": [],
   "source": [
    "wnl = WordNetLemmatizer()"
   ]
  },
  {
   "cell_type": "code",
   "execution_count": 14,
   "metadata": {},
   "outputs": [],
   "source": [
    "sent = \"Jhon is a developer who likes to eat apples. He is proficient in C++.\""
   ]
  },
  {
   "cell_type": "code",
   "execution_count": 21,
   "metadata": {},
   "outputs": [
    {
     "data": {
      "text/plain": [
       "['Jhon',\n",
       " 'is',\n",
       " 'a',\n",
       " 'developer',\n",
       " 'who',\n",
       " 'likes',\n",
       " 'to',\n",
       " 'eat',\n",
       " 'apples',\n",
       " '.',\n",
       " 'He',\n",
       " 'is',\n",
       " 'proficient',\n",
       " 'in',\n",
       " 'C++',\n",
       " '.']"
      ]
     },
     "execution_count": 21,
     "metadata": {},
     "output_type": "execute_result"
    }
   ],
   "source": [
    "def tok(sent):\n",
    "    tokword = word_tokenize(sent)\n",
    "    return tokword\n",
    "\n",
    "\n",
    "tok(sent)"
   ]
  },
  {
   "cell_type": "code",
   "execution_count": 26,
   "metadata": {},
   "outputs": [
    {
     "data": {
      "text/plain": [
       "\"['jhon', 'is', 'a', 'developer', 'who', 'likes', 'to', 'eat', 'apples', '.', 'he', 'is', 'proficient', 'in', 'c++', '.']\""
      ]
     },
     "execution_count": 26,
     "metadata": {},
     "output_type": "execute_result"
    }
   ],
   "source": [
    "def stem(sent):\n",
    "    stem = PorterStemmer()\n",
    "    stw = stem.stem(str(tok(sent)).lower())\n",
    "    return stw\n",
    "\n",
    "stem(sent)"
   ]
  },
  {
   "cell_type": "code",
   "execution_count": null,
   "metadata": {},
   "outputs": [],
   "source": [
    "def lem(sent):\n",
    "    lemm = WordNetLemmatizer()\n",
    "    "
   ]
  }
 ],
 "metadata": {
  "kernelspec": {
   "display_name": "Python 3",
   "language": "python",
   "name": "python3"
  },
  "language_info": {
   "codemirror_mode": {
    "name": "ipython",
    "version": 3
   },
   "file_extension": ".py",
   "mimetype": "text/x-python",
   "name": "python",
   "nbconvert_exporter": "python",
   "pygments_lexer": "ipython3",
   "version": "3.10.12"
  },
  "orig_nbformat": 4
 },
 "nbformat": 4,
 "nbformat_minor": 2
}
