{
  "nbformat": 4,
  "nbformat_minor": 0,
  "metadata": {
    "colab": {
      "provenance": []
    },
    "kernelspec": {
      "name": "python3",
      "display_name": "Python 3"
    },
    "language_info": {
      "name": "python"
    }
  },
  "cells": [
    {
      "cell_type": "code",
      "execution_count": 18,
      "metadata": {
        "id": "3pKJycxIBBO7"
      },
      "outputs": [],
      "source": [
        "import pandas as pd\n",
        "import numpy as np\n",
        "from sklearn.impute import SimpleImputer\n",
        "from sklearn.ensemble import RandomForestClassifier as rfc\n",
        "from sklearn.pipeline import Pipeline"
      ]
    },
    {
      "cell_type": "code",
      "source": [
        "data = pd.read_csv(r\"/content/drive/MyDrive/DAV Experiments/train.csv\")\n",
        "print(data.head())"
      ],
      "metadata": {
        "colab": {
          "base_uri": "https://localhost:8080/"
        },
        "id": "4e4sv7FCBTNu",
        "outputId": "387e6718-f107-403b-8d16-a11d47da439e"
      },
      "execution_count": 5,
      "outputs": [
        {
          "output_type": "stream",
          "name": "stdout",
          "text": [
            "   PassengerId  Survived  Pclass  \\\n",
            "0            1         0       3   \n",
            "1            2         1       1   \n",
            "2            3         1       3   \n",
            "3            4         1       1   \n",
            "4            5         0       3   \n",
            "\n",
            "                                                Name     Sex   Age  SibSp  \\\n",
            "0                            Braund, Mr. Owen Harris    male  22.0      1   \n",
            "1  Cumings, Mrs. John Bradley (Florence Briggs Th...  female  38.0      1   \n",
            "2                             Heikkinen, Miss. Laina  female  26.0      0   \n",
            "3       Futrelle, Mrs. Jacques Heath (Lily May Peel)  female  35.0      1   \n",
            "4                           Allen, Mr. William Henry    male  35.0      0   \n",
            "\n",
            "   Parch            Ticket     Fare Cabin Embarked  \n",
            "0      0         A/5 21171   7.2500   NaN        S  \n",
            "1      0          PC 17599  71.2833   C85        C  \n",
            "2      0  STON/O2. 3101282   7.9250   NaN        S  \n",
            "3      0            113803  53.1000  C123        S  \n",
            "4      0            373450   8.0500   NaN        S  \n"
          ]
        }
      ]
    },
    {
      "cell_type": "code",
      "source": [
        "# To detect missing values\n",
        "missing = data.isnull().sum()\n",
        "print(f\"Missing Values:\\n {missing}\")"
      ],
      "metadata": {
        "colab": {
          "base_uri": "https://localhost:8080/"
        },
        "id": "1FyIW6OKBZ7m",
        "outputId": "4e8dbd16-2bbe-4568-c95e-c3389e78a6dd"
      },
      "execution_count": 7,
      "outputs": [
        {
          "output_type": "stream",
          "name": "stdout",
          "text": [
            "Missing Values:\n",
            " PassengerId      0\n",
            "Survived         0\n",
            "Pclass           0\n",
            "Name             0\n",
            "Sex              0\n",
            "Age            177\n",
            "SibSp            0\n",
            "Parch            0\n",
            "Ticket           0\n",
            "Fare             0\n",
            "Cabin          687\n",
            "Embarked         2\n",
            "dtype: int64\n"
          ]
        }
      ]
    },
    {
      "cell_type": "code",
      "source": [
        "# To check deletions\n",
        "data_dr = data.dropna()\n"
      ],
      "metadata": {
        "id": "Hd55BtpACMyW"
      },
      "execution_count": 8,
      "outputs": []
    },
    {
      "cell_type": "code",
      "source": [
        "#Non Time series Imputations\n",
        "# To fill missing values with mean median or mode\n",
        "mean_age = data['Age'].mean()\n",
        "data['Age'].fillna(mean_age,inplace=True)"
      ],
      "metadata": {
        "id": "gAcQrMk_CXGn"
      },
      "execution_count": 9,
      "outputs": []
    },
    {
      "cell_type": "code",
      "source": [
        "#forward and backward fill\n",
        "data_f = data\n",
        "data_b = data\n",
        "data_f['Age'] = data['Age'].fillna(method='ffill')\n",
        "data_b['Age'] = data['Age'].fillna(method='bfill')\n",
        "print(f\"Data After Forward and backward Fill:\\n\\n {data_f['Age'].head()}\\n\\n{data_b['Age' ].head()}\")"
      ],
      "metadata": {
        "colab": {
          "base_uri": "https://localhost:8080/"
        },
        "id": "y-PKO9ewGyDB",
        "outputId": "92ce675d-6158-4176-e56a-dd787a78e000"
      },
      "execution_count": 27,
      "outputs": [
        {
          "output_type": "stream",
          "name": "stdout",
          "text": [
            "Data After Forward and backward Fill:\n",
            "\n",
            " 0    22.0\n",
            "1    38.0\n",
            "2    26.0\n",
            "3    35.0\n",
            "4    35.0\n",
            "Name: Age, dtype: float64\n",
            "\n",
            "0    22.0\n",
            "1    38.0\n",
            "2    26.0\n",
            "3    35.0\n",
            "4    35.0\n",
            "Name: Age, dtype: float64\n"
          ]
        }
      ]
    },
    {
      "cell_type": "code",
      "source": [
        "# Linear Interpolation\n",
        "data_lin = data\n",
        "data_lin['Age'] = data_lin['Age'].interpolate(method='linear',limit_direction='forward',axis=0)\n",
        "print(f\"Data after Linear Interpolation:\\n\\n{data_lin['Age']}\")"
      ],
      "metadata": {
        "colab": {
          "base_uri": "https://localhost:8080/"
        },
        "id": "WxpywrFJHscz",
        "outputId": "e8f2f04e-5d2d-4f84-d1dc-9dde12dc7ac3"
      },
      "execution_count": 29,
      "outputs": [
        {
          "output_type": "stream",
          "name": "stdout",
          "text": [
            "Data after Linear Interpolation:\n",
            "\n",
            "0      22.000000\n",
            "1      38.000000\n",
            "2      26.000000\n",
            "3      35.000000\n",
            "4      35.000000\n",
            "         ...    \n",
            "886    27.000000\n",
            "887    19.000000\n",
            "888    29.699118\n",
            "889    26.000000\n",
            "890    32.000000\n",
            "Name: Age, Length: 891, dtype: float64\n"
          ]
        }
      ]
    },
    {
      "cell_type": "code",
      "source": [
        "# Using Advanced Imputation using sklearn module\n",
        "\n",
        "# Create an Imputer Object\n",
        "imputer = SimpleImputer(strategy='median')"
      ],
      "metadata": {
        "id": "MTdWOotfCxto"
      },
      "execution_count": 11,
      "outputs": []
    },
    {
      "cell_type": "code",
      "source": [
        "#Applying Imputation to age\n",
        "data[['Age']] = imputer.fit_transform(data[['Age']])\n",
        "print(data['Age'].head())"
      ],
      "metadata": {
        "colab": {
          "base_uri": "https://localhost:8080/"
        },
        "id": "1AMQ880KDBrt",
        "outputId": "f0ebd0ba-6d0d-4eff-f9be-89e61e88f1a8"
      },
      "execution_count": 23,
      "outputs": [
        {
          "output_type": "stream",
          "name": "stdout",
          "text": [
            "0    22.0\n",
            "1    38.0\n",
            "2    26.0\n",
            "3    35.0\n",
            "4    35.0\n",
            "Name: Age, dtype: float64\n"
          ]
        }
      ]
    },
    {
      "cell_type": "code",
      "source": [
        "rf = rfc(n_estimators=100,random_state=42)"
      ],
      "metadata": {
        "id": "7FkPG82fDLEt"
      },
      "execution_count": 15,
      "outputs": []
    },
    {
      "cell_type": "code",
      "source": [
        "#Bundle preprocessing and modeling code in a pipeline\n",
        "clf = Pipeline(steps=[('preprocessor',imputer),('model',rf)])"
      ],
      "metadata": {
        "id": "6WN57OqxDlW2"
      },
      "execution_count": 21,
      "outputs": []
    }
  ]
}